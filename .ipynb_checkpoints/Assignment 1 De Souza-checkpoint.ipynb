{
 "cells": [
  {
   "cell_type": "code",
   "execution_count": 54,
   "metadata": {},
   "outputs": [
    {
     "name": "stdout",
     "output_type": "stream",
     "text": [
      "The box contains cucumbers\n"
     ]
    }
   ],
   "source": [
    "# container 1 with vegetable\n",
    "box = \"cucumbers\"\n",
    "print \"The box contains \" + box "
   ]
  },
  {
   "cell_type": "code",
   "execution_count": 55,
   "metadata": {},
   "outputs": [
    {
     "name": "stdout",
     "output_type": "stream",
     "text": [
      "The jar contains raspberries\n"
     ]
    }
   ],
   "source": [
    "#container 2 with fruit\n",
    "jar = \"raspberries\"\n",
    "print \"The jar contains \" + jar"
   ]
  },
  {
   "cell_type": "code",
   "execution_count": 56,
   "metadata": {},
   "outputs": [
    {
     "name": "stdout",
     "output_type": "stream",
     "text": [
      "The crate contains oranges\n"
     ]
    }
   ],
   "source": [
    "#container 3 with fruit\n",
    "crate = \"oranges\"\n",
    "print \"The crate contains \" + crate"
   ]
  },
  {
   "cell_type": "code",
   "execution_count": 57,
   "metadata": {},
   "outputs": [
    {
     "name": "stdout",
     "output_type": "stream",
     "text": [
      "The drawer contains bananas\n"
     ]
    }
   ],
   "source": [
    "#container 4 with fruit\n",
    "drawer = \"bananas\"\n",
    "print \"The drawer contains \" + drawer"
   ]
  },
  {
   "cell_type": "code",
   "execution_count": 58,
   "metadata": {},
   "outputs": [
    {
     "name": "stdout",
     "output_type": "stream",
     "text": [
      "The bag contains broccoli\n"
     ]
    }
   ],
   "source": [
    "#container 5 with vegetable\n",
    "bag = \"broccoli\"\n",
    "print \"The bag contains \" + bag"
   ]
  },
  {
   "cell_type": "code",
   "execution_count": 44,
   "metadata": {},
   "outputs": [],
   "source": [
    "# sentence stored with quotes\n",
    "sentence = \"Klavan said that producers have \\\"called my agent asking, \\'Why would you represent this guy?' Anything that lowers your odds is going to hurt.\\\"\""
   ]
  },
  {
   "cell_type": "code",
   "execution_count": 45,
   "metadata": {},
   "outputs": [
    {
     "name": "stdout",
     "output_type": "stream",
     "text": [
      "Klavan said that producers have \"called my agent asking, 'Why would you represent this guy?' Anything that lowers your odds is going to hurt.\"\n"
     ]
    }
   ],
   "source": [
    "print sentence"
   ]
  },
  {
   "cell_type": "code",
   "execution_count": 46,
   "metadata": {},
   "outputs": [],
   "source": [
    "# list of 5 presidents as strings\n",
    "presidents = ['Washington' , 'Lincoln' , 'Jefferson' , 'Kennedy' , 'Obama']"
   ]
  },
  {
   "cell_type": "code",
   "execution_count": 47,
   "metadata": {},
   "outputs": [
    {
     "name": "stdout",
     "output_type": "stream",
     "text": [
      "['Washington', 'Lincoln', 'Jefferson', 'Kennedy', 'Obama']\n"
     ]
    }
   ],
   "source": [
    "print presidents"
   ]
  },
  {
   "cell_type": "code",
   "execution_count": 48,
   "metadata": {},
   "outputs": [
    {
     "name": "stdout",
     "output_type": "stream",
     "text": [
      "Jefferson\n"
     ]
    }
   ],
   "source": [
    "# print 3rd item on the list\n",
    "print presidents[2]"
   ]
  },
  {
   "cell_type": "code",
   "execution_count": 50,
   "metadata": {},
   "outputs": [],
   "source": [
    "# list of birth years as integers\n",
    "birthyears = [1732 , 1809 , 1743 , 1917 , 1961]"
   ]
  },
  {
   "cell_type": "code",
   "execution_count": 30,
   "metadata": {},
   "outputs": [
    {
     "name": "stdout",
     "output_type": "stream",
     "text": [
      "[1732, 1809, 1743, 1917, 1961]\n"
     ]
    }
   ],
   "source": [
    "print birthyears\n"
   ]
  },
  {
   "cell_type": "code",
   "execution_count": 51,
   "metadata": {},
   "outputs": [
    {
     "name": "stdout",
     "output_type": "stream",
     "text": [
      "1961\n"
     ]
    }
   ],
   "source": [
    "# print last year from the list\n",
    "print birthyears[-1]"
   ]
  },
  {
   "cell_type": "code",
   "execution_count": 59,
   "metadata": {},
   "outputs": [],
   "source": [
    "# match president to birth year\n",
    "pData = dict(zip(presidents , birthyears))"
   ]
  },
  {
   "cell_type": "code",
   "execution_count": 53,
   "metadata": {},
   "outputs": [
    {
     "name": "stdout",
     "output_type": "stream",
     "text": [
      "{'Obama': 1961, 'Lincoln': 1809, 'Jefferson': 1743, 'Washington': 1732, 'Kennedy': 1917}\n"
     ]
    }
   ],
   "source": [
    "print pData"
   ]
  },
  {
   "cell_type": "code",
   "execution_count": null,
   "metadata": {},
   "outputs": [],
   "source": []
  }
 ],
 "metadata": {
  "kernelspec": {
   "display_name": "Python 2",
   "language": "python",
   "name": "python2"
  },
  "language_info": {
   "codemirror_mode": {
    "name": "ipython",
    "version": 2
   },
   "file_extension": ".py",
   "mimetype": "text/x-python",
   "name": "python",
   "nbconvert_exporter": "python",
   "pygments_lexer": "ipython2",
   "version": "2.7.14"
  }
 },
 "nbformat": 4,
 "nbformat_minor": 2
}
