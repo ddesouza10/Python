{
 "cells": [
  {
   "cell_type": "code",
   "execution_count": 1,
   "metadata": {},
   "outputs": [],
   "source": [
    "name = \"Danielle\""
   ]
  },
  {
   "cell_type": "code",
   "execution_count": 2,
   "metadata": {},
   "outputs": [],
   "source": [
    "age = 20"
   ]
  },
  {
   "cell_type": "code",
   "execution_count": 3,
   "metadata": {},
   "outputs": [
    {
     "name": "stdout",
     "output_type": "stream",
     "text": [
      "Danielle\n"
     ]
    }
   ],
   "source": [
    "print name"
   ]
  },
  {
   "cell_type": "code",
   "execution_count": 4,
   "metadata": {},
   "outputs": [
    {
     "name": "stdout",
     "output_type": "stream",
     "text": [
      "20\n"
     ]
    }
   ],
   "source": [
    "print age"
   ]
  },
  {
   "cell_type": "code",
   "execution_count": 5,
   "metadata": {},
   "outputs": [
    {
     "name": "stdout",
     "output_type": "stream",
     "text": [
      "Danielle20\n"
     ]
    }
   ],
   "source": [
    "print name + str(age)"
   ]
  },
  {
   "cell_type": "code",
   "execution_count": 15,
   "metadata": {},
   "outputs": [],
   "source": [
    "letter1 = \"M\"\n",
    "letter2 = \"Y\"\n",
    "letter3 = \"N\"\n",
    "letter4 = \"A\"\n",
    "letter5 = \"M\"\n",
    "letter6 = \"E\""
   ]
  },
  {
   "cell_type": "code",
   "execution_count": 16,
   "metadata": {},
   "outputs": [
    {
     "name": "stdout",
     "output_type": "stream",
     "text": [
      "Y\n"
     ]
    }
   ],
   "source": [
    "print letter2"
   ]
  },
  {
   "cell_type": "code",
   "execution_count": 21,
   "metadata": {},
   "outputs": [],
   "source": [
    "start = letter1 + letter2 + \" \" + letter3 + letter4 + letter5 + letter6"
   ]
  },
  {
   "cell_type": "code",
   "execution_count": 23,
   "metadata": {},
   "outputs": [
    {
     "name": "stdout",
     "output_type": "stream",
     "text": [
      "MY NAME IS Danielle\n"
     ]
    }
   ],
   "source": [
    "print start + \" IS \" + name"
   ]
  },
  {
   "cell_type": "code",
   "execution_count": 24,
   "metadata": {},
   "outputs": [],
   "source": [
    "gas = 3.90\n",
    "truck = 14"
   ]
  },
  {
   "cell_type": "code",
   "execution_count": 25,
   "metadata": {},
   "outputs": [
    {
     "name": "stdout",
     "output_type": "stream",
     "text": [
      "3.9\n"
     ]
    }
   ],
   "source": [
    "print gas"
   ]
  },
  {
   "cell_type": "code",
   "execution_count": 26,
   "metadata": {},
   "outputs": [
    {
     "name": "stdout",
     "output_type": "stream",
     "text": [
      "14\n"
     ]
    }
   ],
   "source": [
    "print truck"
   ]
  },
  {
   "cell_type": "code",
   "execution_count": 27,
   "metadata": {},
   "outputs": [
    {
     "data": {
      "text/plain": [
       "0"
      ]
     },
     "execution_count": 27,
     "metadata": {},
     "output_type": "execute_result"
    }
   ],
   "source": [
    "3/5"
   ]
  },
  {
   "cell_type": "code",
   "execution_count": 28,
   "metadata": {},
   "outputs": [
    {
     "data": {
      "text/plain": [
       "0.6"
      ]
     },
     "execution_count": 28,
     "metadata": {},
     "output_type": "execute_result"
    }
   ],
   "source": [
    "3.0/5.0"
   ]
  },
  {
   "cell_type": "code",
   "execution_count": 29,
   "metadata": {},
   "outputs": [],
   "source": [
    "colors = [\"red\", \"blue\",\"green\",\"yellow\",\"brown\",\"orange\",\"pink\",\"purple\",\"burgundy\",\"blanchedalmond\"]"
   ]
  },
  {
   "cell_type": "code",
   "execution_count": 30,
   "metadata": {},
   "outputs": [
    {
     "name": "stdout",
     "output_type": "stream",
     "text": [
      "blanchedalmond\n"
     ]
    }
   ],
   "source": [
    "print colors[-1]"
   ]
  },
  {
   "cell_type": "code",
   "execution_count": 31,
   "metadata": {},
   "outputs": [
    {
     "data": {
      "text/plain": [
       "10"
      ]
     },
     "execution_count": 31,
     "metadata": {},
     "output_type": "execute_result"
    }
   ],
   "source": [
    "len(colors)"
   ]
  },
  {
   "cell_type": "code",
   "execution_count": 32,
   "metadata": {},
   "outputs": [
    {
     "ename": "TypeError",
     "evalue": "'list' object is not callable",
     "output_type": "error",
     "traceback": [
      "\u001b[1;31m---------------------------------------------------------------------------\u001b[0m",
      "\u001b[1;31mTypeError\u001b[0m                                 Traceback (most recent call last)",
      "\u001b[1;32m<ipython-input-32-1cdd201b6e83>\u001b[0m in \u001b[0;36m<module>\u001b[1;34m()\u001b[0m\n\u001b[1;32m----> 1\u001b[1;33m \u001b[1;32mprint\u001b[0m \u001b[0mcolors\u001b[0m\u001b[1;33m(\u001b[0m\u001b[1;36m9\u001b[0m\u001b[1;33m)\u001b[0m\u001b[1;33m\u001b[0m\u001b[0m\n\u001b[0m",
      "\u001b[1;31mTypeError\u001b[0m: 'list' object is not callable"
     ]
    }
   ],
   "source": [
    "print colors(9)"
   ]
  },
  {
   "cell_type": "code",
   "execution_count": 33,
   "metadata": {},
   "outputs": [
    {
     "name": "stdout",
     "output_type": "stream",
     "text": [
      "blanchedalmond\n"
     ]
    }
   ],
   "source": [
    "print colors[9]"
   ]
  },
  {
   "cell_type": "code",
   "execution_count": 54,
   "metadata": {},
   "outputs": [],
   "source": [
    "cars = {\"ford\":\"F150\",\"Volkswagen\":\"golf\",\"audi\":[\"q2\",\"a4\"],\"smart\":\"smartfor4\",\"bmw\":\"328i\",\"toyota\":\"corolla\"}"
   ]
  },
  {
   "cell_type": "code",
   "execution_count": 39,
   "metadata": {},
   "outputs": [
    {
     "name": "stdout",
     "output_type": "stream",
     "text": [
      "['q2', 'a4']\n"
     ]
    }
   ],
   "source": [
    "print cars[\"audi\"]"
   ]
  },
  {
   "cell_type": "code",
   "execution_count": 41,
   "metadata": {},
   "outputs": [
    {
     "name": "stdout",
     "output_type": "stream",
     "text": [
      "a4\n"
     ]
    }
   ],
   "source": [
    "print cars[\"audi\"][1]"
   ]
  },
  {
   "cell_type": "code",
   "execution_count": 44,
   "metadata": {},
   "outputs": [
    {
     "name": "stdout",
     "output_type": "stream",
     "text": [
      "red\n",
      "blue\n",
      "green\n",
      "yellow\n",
      "brown\n",
      "orange\n",
      "pink\n",
      "purple\n",
      "burgundy\n",
      "blanchedalmond\n"
     ]
    }
   ],
   "source": [
    "# let's loop through colors\n",
    "for color in colors:\n",
    "    print color"
   ]
  },
  {
   "cell_type": "code",
   "execution_count": 45,
   "metadata": {},
   "outputs": [
    {
     "name": "stdout",
     "output_type": "stream",
     "text": [
      "blue\n",
      "green\n",
      "yellow\n",
      "brown\n",
      "orange\n",
      "pink\n",
      "purple\n",
      "burgundy\n",
      "blanchedalmond\n"
     ]
    }
   ],
   "source": [
    "# start after first item\n",
    "for color in colors[1:]:\n",
    "    print color"
   ]
  },
  {
   "cell_type": "code",
   "execution_count": 46,
   "metadata": {},
   "outputs": [
    {
     "name": "stdout",
     "output_type": "stream",
     "text": [
      "['blue', 'green', 'yellow', 'brown', 'orange', 'pink', 'purple', 'burgundy', 'blanchedalmond']\n"
     ]
    }
   ],
   "source": [
    "print colors[1:]"
   ]
  },
  {
   "cell_type": "code",
   "execution_count": 47,
   "metadata": {},
   "outputs": [],
   "source": [
    "building = \"annenberg\""
   ]
  },
  {
   "cell_type": "code",
   "execution_count": 48,
   "metadata": {},
   "outputs": [
    {
     "data": {
      "text/plain": [
       "'a'"
      ]
     },
     "execution_count": 48,
     "metadata": {},
     "output_type": "execute_result"
    }
   ],
   "source": [
    "building[0]"
   ]
  },
  {
   "cell_type": "code",
   "execution_count": 49,
   "metadata": {},
   "outputs": [
    {
     "data": {
      "text/plain": [
       "'berg'"
      ]
     },
     "execution_count": 49,
     "metadata": {},
     "output_type": "execute_result"
    }
   ],
   "source": [
    "building[5:]"
   ]
  },
  {
   "cell_type": "code",
   "execution_count": 50,
   "metadata": {},
   "outputs": [
    {
     "data": {
      "text/plain": [
       "'annen'"
      ]
     },
     "execution_count": 50,
     "metadata": {},
     "output_type": "execute_result"
    }
   ],
   "source": [
    "building[:5]"
   ]
  },
  {
   "cell_type": "code",
   "execution_count": 51,
   "metadata": {},
   "outputs": [
    {
     "data": {
      "text/plain": [
       "['red', 'blue', 'green', 'yellow', 'brown']"
      ]
     },
     "execution_count": 51,
     "metadata": {},
     "output_type": "execute_result"
    }
   ],
   "source": [
    "colors[:5]"
   ]
  },
  {
   "cell_type": "code",
   "execution_count": 52,
   "metadata": {},
   "outputs": [
    {
     "name": "stdout",
     "output_type": "stream",
     "text": [
      "a\n",
      "n\n",
      "n\n",
      "e\n",
      "n\n",
      "b\n",
      "e\n",
      "r\n",
      "g\n"
     ]
    }
   ],
   "source": [
    "for letter in building:\n",
    "    print letter"
   ]
  },
  {
   "cell_type": "code",
   "execution_count": 55,
   "metadata": {},
   "outputs": [
    {
     "name": "stdout",
     "output_type": "stream",
     "text": [
      "toyota\n",
      "Volkswagen\n",
      "bmw\n",
      "ford\n",
      "smart\n",
      "audi\n"
     ]
    }
   ],
   "source": [
    "for car in cars:\n",
    "    print car"
   ]
  },
  {
   "cell_type": "code",
   "execution_count": 60,
   "metadata": {},
   "outputs": [
    {
     "name": "stdout",
     "output_type": "stream",
     "text": [
      "toyota corolla\n",
      "Volkswagen golf\n",
      "bmw 328i\n",
      "ford F150\n",
      "smart smartfor4\n",
      "audi ['q2', 'a4']\n"
     ]
    }
   ],
   "source": [
    "# loop through cars and print\n",
    "for car in cars:\n",
    "    print car + \" \" + str(cars[car])"
   ]
  },
  {
   "cell_type": "code",
   "execution_count": 63,
   "metadata": {},
   "outputs": [
    {
     "name": "stdout",
     "output_type": "stream",
     "text": [
      "red\n",
      "blue\n",
      "green\n",
      "yellow\n",
      "brown\n",
      "orange\n",
      "pink\n",
      "purple\n",
      "burgundy\n"
     ]
    }
   ],
   "source": [
    "# loop through colors and print everything that'ts not blanchedalmond \n",
    "for color in colors:\n",
    "    if color is not \"blanchedalmond\":\n",
    "        print color"
   ]
  },
  {
   "cell_type": "code",
   "execution_count": 64,
   "metadata": {},
   "outputs": [
    {
     "data": {
      "text/plain": [
       "8"
      ]
     },
     "execution_count": 64,
     "metadata": {},
     "output_type": "execute_result"
    }
   ],
   "source": [
    "# addition\n",
    "5+3"
   ]
  },
  {
   "cell_type": "code",
   "execution_count": 65,
   "metadata": {},
   "outputs": [
    {
     "data": {
      "text/plain": [
       "6"
      ]
     },
     "execution_count": 65,
     "metadata": {},
     "output_type": "execute_result"
    }
   ],
   "source": [
    "# subtraction\n",
    "9 - 3 "
   ]
  },
  {
   "cell_type": "code",
   "execution_count": 66,
   "metadata": {},
   "outputs": [
    {
     "data": {
      "text/plain": [
       "4"
      ]
     },
     "execution_count": 66,
     "metadata": {},
     "output_type": "execute_result"
    }
   ],
   "source": [
    "# division\n",
    "8 / 2"
   ]
  },
  {
   "cell_type": "code",
   "execution_count": 67,
   "metadata": {},
   "outputs": [
    {
     "data": {
      "text/plain": [
       "12"
      ]
     },
     "execution_count": 67,
     "metadata": {},
     "output_type": "execute_result"
    }
   ],
   "source": [
    "# multiplication\n",
    "6 * 2"
   ]
  },
  {
   "cell_type": "code",
   "execution_count": 68,
   "metadata": {},
   "outputs": [
    {
     "data": {
      "text/plain": [
       "1"
      ]
     },
     "execution_count": 68,
     "metadata": {},
     "output_type": "execute_result"
    }
   ],
   "source": [
    "# modulo\n",
    "5 % 2"
   ]
  },
  {
   "cell_type": "code",
   "execution_count": 69,
   "metadata": {},
   "outputs": [
    {
     "data": {
      "text/plain": [
       "True"
      ]
     },
     "execution_count": 69,
     "metadata": {},
     "output_type": "execute_result"
    }
   ],
   "source": [
    "8 > 2"
   ]
  },
  {
   "cell_type": "code",
   "execution_count": 70,
   "metadata": {},
   "outputs": [
    {
     "data": {
      "text/plain": [
       "False"
      ]
     },
     "execution_count": 70,
     "metadata": {},
     "output_type": "execute_result"
    }
   ],
   "source": [
    "8 > 10"
   ]
  },
  {
   "cell_type": "code",
   "execution_count": 71,
   "metadata": {},
   "outputs": [
    {
     "data": {
      "text/plain": [
       "True"
      ]
     },
     "execution_count": 71,
     "metadata": {},
     "output_type": "execute_result"
    }
   ],
   "source": [
    "truck >= 14"
   ]
  },
  {
   "cell_type": "code",
   "execution_count": 72,
   "metadata": {},
   "outputs": [
    {
     "data": {
      "text/plain": [
       "True"
      ]
     },
     "execution_count": 72,
     "metadata": {},
     "output_type": "execute_result"
    }
   ],
   "source": [
    "# is gas greater than 3?\n",
    "gas > 3"
   ]
  },
  {
   "cell_type": "code",
   "execution_count": 73,
   "metadata": {},
   "outputs": [],
   "source": [
    "calgas = gas"
   ]
  },
  {
   "cell_type": "code",
   "execution_count": 74,
   "metadata": {},
   "outputs": [],
   "source": [
    "arkgas = 2.7"
   ]
  },
  {
   "cell_type": "code",
   "execution_count": 75,
   "metadata": {},
   "outputs": [
    {
     "data": {
      "text/plain": [
       "False"
      ]
     },
     "execution_count": 75,
     "metadata": {},
     "output_type": "execute_result"
    }
   ],
   "source": [
    "calgas < arkgas"
   ]
  },
  {
   "cell_type": "code",
   "execution_count": 76,
   "metadata": {},
   "outputs": [],
   "source": [
    "first_name = \"Domi\""
   ]
  },
  {
   "cell_type": "code",
   "execution_count": 78,
   "metadata": {},
   "outputs": [],
   "source": [
    "firstName = \"Jacqui\""
   ]
  },
  {
   "cell_type": "code",
   "execution_count": 79,
   "metadata": {},
   "outputs": [
    {
     "ename": "SyntaxError",
     "evalue": "invalid syntax (<ipython-input-79-1e539b9c07c8>, line 1)",
     "output_type": "error",
     "traceback": [
      "\u001b[1;36m  File \u001b[1;32m\"<ipython-input-79-1e539b9c07c8>\"\u001b[1;36m, line \u001b[1;32m1\u001b[0m\n\u001b[1;33m    sentence = \"Jon said, \"Hello.\"\"\u001b[0m\n\u001b[1;37m                               ^\u001b[0m\n\u001b[1;31mSyntaxError\u001b[0m\u001b[1;31m:\u001b[0m invalid syntax\n"
     ]
    }
   ],
   "source": [
    "sentence = \"Jon said, \"Hello.\"\""
   ]
  },
  {
   "cell_type": "code",
   "execution_count": 82,
   "metadata": {},
   "outputs": [
    {
     "name": "stdout",
     "output_type": "stream",
     "text": [
      "Jon said, \"Hello.\"\n"
     ]
    }
   ],
   "source": [
    "sentence = \"Jon said, \\\"Hello.\\\"\"\n",
    "print sentence"
   ]
  },
  {
   "cell_type": "code",
   "execution_count": 89,
   "metadata": {},
   "outputs": [
    {
     "name": "stdout",
     "output_type": "stream",
     "text": [
      "Danielle said, 'Can we do single quotes?'\n"
     ]
    }
   ],
   "source": [
    "sentence2 = \"Danielle said, 'Can we do single quotes?'\"\n",
    "print sentence2"
   ]
  },
  {
   "cell_type": "code",
   "execution_count": 91,
   "metadata": {},
   "outputs": [
    {
     "name": "stdout",
     "output_type": "stream",
     "text": [
      "Jon said, \"Danielle said, 'Can we do single quotes?'\"\n"
     ]
    }
   ],
   "source": [
    "sentence3 = \"Jon said, \\\"Danielle said, 'Can we do single quotes?'\\\"\"\n",
    "print sentence3"
   ]
  },
  {
   "cell_type": "code",
   "execution_count": 92,
   "metadata": {},
   "outputs": [
    {
     "name": "stdout",
     "output_type": "stream",
     "text": [
      "\"Danielle said, 'Can we do single quotes?'\"\n"
     ]
    }
   ],
   "source": [
    "sentence3 = \"\\\"Danielle said, 'Can we do single quotes?'\\\"\"\n",
    "print sentence3"
   ]
  },
  {
   "cell_type": "code",
   "execution_count": 95,
   "metadata": {},
   "outputs": [
    {
     "name": "stdout",
     "output_type": "stream",
     "text": [
      "\n",
      "This is a line.\n",
      "And another line.\n",
      "And even on more line.\n",
      "\n"
     ]
    }
   ],
   "source": [
    "sentence4 = \"\"\"\n",
    "This is a line.\n",
    "And another line.\n",
    "And even on more line.\n",
    "\"\"\"\n",
    "print sentence4"
   ]
  },
  {
   "cell_type": "code",
   "execution_count": 96,
   "metadata": {},
   "outputs": [],
   "source": [
    "# create a text file\n",
    "f = open(\"Week2test.txt\",\"w\")"
   ]
  },
  {
   "cell_type": "code",
   "execution_count": 97,
   "metadata": {},
   "outputs": [],
   "source": [
    "# write a sentence to that file\n",
    "f.write(sentence4)"
   ]
  },
  {
   "cell_type": "code",
   "execution_count": 98,
   "metadata": {},
   "outputs": [],
   "source": [
    "#close the file\n",
    "f.close()"
   ]
  },
  {
   "cell_type": "code",
   "execution_count": 102,
   "metadata": {},
   "outputs": [],
   "source": [
    "# open the file for reading\n",
    "f = open(\"week2test.txt\",\"r\")"
   ]
  },
  {
   "cell_type": "code",
   "execution_count": 100,
   "metadata": {},
   "outputs": [
    {
     "data": {
      "text/plain": [
       "'\\nThis is a line.\\nAnd another line.\\nAnd even on more line.\\n'"
      ]
     },
     "execution_count": 100,
     "metadata": {},
     "output_type": "execute_result"
    }
   ],
   "source": [
    "f.read()"
   ]
  },
  {
   "cell_type": "code",
   "execution_count": 101,
   "metadata": {},
   "outputs": [
    {
     "data": {
      "text/plain": [
       "''"
      ]
     },
     "execution_count": 101,
     "metadata": {},
     "output_type": "execute_result"
    }
   ],
   "source": [
    "f.read()"
   ]
  },
  {
   "cell_type": "code",
   "execution_count": 103,
   "metadata": {},
   "outputs": [
    {
     "data": {
      "text/plain": [
       "['\\n', 'This is a line.\\n', 'And another line.\\n', 'And even on more line.\\n']"
      ]
     },
     "execution_count": 103,
     "metadata": {},
     "output_type": "execute_result"
    }
   ],
   "source": [
    "f.readlines()"
   ]
  },
  {
   "cell_type": "code",
   "execution_count": 104,
   "metadata": {},
   "outputs": [],
   "source": [
    "f.close()"
   ]
  },
  {
   "cell_type": "code",
   "execution_count": 113,
   "metadata": {},
   "outputs": [],
   "source": [
    "f = open(\"week2test.txt\",\"a\")"
   ]
  },
  {
   "cell_type": "code",
   "execution_count": 114,
   "metadata": {},
   "outputs": [],
   "source": [
    "f.write(\"I just added this line!\\n\")"
   ]
  },
  {
   "cell_type": "code",
   "execution_count": 115,
   "metadata": {},
   "outputs": [],
   "source": [
    "f.close()"
   ]
  },
  {
   "cell_type": "code",
   "execution_count": 116,
   "metadata": {},
   "outputs": [],
   "source": [
    "fruits = \"\"\"\n",
    "red\n",
    "\\t*strawberry\n",
    "\\t*cherry\n",
    "\\t*raspberry\n",
    "\\t*apple\n",
    "\"\"\""
   ]
  },
  {
   "cell_type": "code",
   "execution_count": 117,
   "metadata": {},
   "outputs": [
    {
     "name": "stdout",
     "output_type": "stream",
     "text": [
      "\n",
      "red\n",
      "\t*strawberry\n",
      "\t*cherry\n",
      "\t*raspberry\n",
      "\t*apple\n",
      "\n"
     ]
    }
   ],
   "source": [
    "print fruits"
   ]
  },
  {
   "cell_type": "code",
   "execution_count": 118,
   "metadata": {},
   "outputs": [],
   "source": [
    "f = open(\"week2test.txt\",\"a\")"
   ]
  },
  {
   "cell_type": "code",
   "execution_count": 119,
   "metadata": {},
   "outputs": [],
   "source": [
    "f.write(fruits)"
   ]
  },
  {
   "cell_type": "code",
   "execution_count": 120,
   "metadata": {},
   "outputs": [],
   "source": [
    "f.close()"
   ]
  },
  {
   "cell_type": "code",
   "execution_count": 121,
   "metadata": {},
   "outputs": [],
   "source": [
    "import csv"
   ]
  },
  {
   "cell_type": "code",
   "execution_count": 125,
   "metadata": {},
   "outputs": [
    {
     "name": "stdout",
     "output_type": "stream",
     "text": [
      "['5525-030-023', '19811026-50', 'other', 'N', 'UNIVERSITY OF SOUTHERN CA', '', '', '', '457', '', 'N', 'ORANGE DR', '', 'LOS ANGELES CA', '90036-2611', '', '', '', '', '', '', '']\n"
     ]
    }
   ],
   "source": [
    "# open the assessor file\n",
    "with open (\"assessor.csv\",\"r\") as csvfile:\n",
    "    # run the file through csv reader\n",
    "    assessor = csv.reader(csvfile)\n",
    "    # loop through each row\n",
    "    for row in assessor:\n",
    "        # check if this assessor id number is in row\n",
    "        if '5525-030-023' in row:\n",
    "            print row"
   ]
  },
  {
   "cell_type": "code",
   "execution_count": 126,
   "metadata": {},
   "outputs": [
    {
     "name": "stdout",
     "output_type": "stream",
     "text": [
      "['5525-030-023', '19811026-50', 'other', 'N', 'UNIVERSITY OF SOUTHERN CA', '', '', '', '457', '', 'N', 'ORANGE DR', '', 'LOS ANGELES CA', '90036-2611', '', '', '', '', '', '', '']\n",
      "['5525-032-017', '19811026-50', 'other', 'N', 'UNIVERSITY OF SOUTHERN CA', '', '', '', '321', '', 'N', 'SYCAMORE AVE', '', 'LOS ANGELES CA', '90036-2685', '0', '', '', 'UNIVERSITY PARK MC-0588', '', 'LOS ANGELES CA', '90089']\n",
      "['5055-027-022', '19860611-50', '', 'Y', 'UNIVERSITY OF SOUTHERN CA', '', '', 'DEE JACKSON', '1149', '', 'E', '28TH ST', '', 'LOS ANGELES CA', '90011-2159', '620', '', '', 'MC CARTHY WAY', 'STE 5', 'LOS ANGELES CA', '90089-0155']\n",
      "['5055-029-020', '19860114-50', '', 'Y', 'UNIVERSITY OF SOUTHERN CA', '', '', 'DEE JACKSON', '1138', '', 'W', '29TH ST', '', 'LOS ANGELES CA', '90007-3115', '620', '', '', 'MC CARTHY WAY', 'STE 5', 'LOS ANGELES CA', '90089-0155']\n",
      "['5055-029-021', '19860114-50', '', 'Y', 'UNIVERSITY OF SOUTHERN CA', '', '', 'DEE JACKSON', '1124', '', 'W', '29TH ST', '', 'LOS ANGELES CA', '90007-3114', '620', '', '', 'MC CARTHY WAY', 'STE 5', 'LOS ANGELES CA', '90089-0155']\n",
      "['5122-022-002', '19890418-50', 'other', 'Y', 'UNIVERSITY OF SOUTHERN CA', '', '', 'DEE JACKSON', '3500', '', 'S', 'HOPE ST', '', 'LOS ANGELES CA', '90007-4342', '620', '', '', 'MC CARTHY WAY', 'STE 5', 'LOS ANGELES CA', '90089-0155']\n",
      "['5123-004-433', '19921026-50', '', 'Y', 'UNIVERSITY OF SOUTHERN CA', '', '', 'DEE JACKSON', '3375', '', 'S', 'HOOVER ST', '115', 'LOS ANGELES CA', '90089-0116', '620', '', '', 'MC CARTHY WAY', 'STE 5', 'LOS ANGELES CA', '90089-0155']\n",
      "['5139-029-027', '20101105-50', '', 'Y', 'UNIVERSITY OF SOUTHERN CA', '', '', '', '1155', '', 'S', 'GRAND AVE', 'NO  1410', 'LOS ANGELES CA', '90015-2272', '620', '', 'W', 'MC CARTHY WAY', 'STE 5', 'LOS ANGELES CA', '90089']\n",
      "['2331-032-199', '20080212-50', 'nonReapp', 'Y', 'UNIVERSITY OF SOUTHERN CA', '', '', 'DEE JACKSON', '13032', '', '', 'VICTORY BLVD', '', 'LOS ANGELES CA', '91606-2926', '620', '', '', 'MC CARTHY WAY', 'STE 5', 'LOS ANGELES CA', '90089-0155']\n"
     ]
    }
   ],
   "source": [
    "# open the assessor file\n",
    "with open (\"assessor.csv\",\"r\") as csvfile:\n",
    "    # run the file through csv reader\n",
    "    assessor = csv.reader(csvfile)\n",
    "    # loop through each row\n",
    "    for row in assessor:\n",
    "        # check if this assessor id number is in row\n",
    "        if 'UNIVERSITY OF SOUTHERN CA' in row:\n",
    "            print row"
   ]
  },
  {
   "cell_type": "code",
   "execution_count": 127,
   "metadata": {},
   "outputs": [
    {
     "name": "stdout",
     "output_type": "stream",
     "text": [
      "7480-004-007\n",
      "7480-040-026\n",
      "5525-030-023\n",
      "5525-032-017\n",
      "5039-002-029\n",
      "5039-002-030\n",
      "5039-002-031\n",
      "5039-002-032\n",
      "5039-002-033\n",
      "5039-002-034\n",
      "5039-003-027\n",
      "5039-003-029\n",
      "5039-003-030\n",
      "5039-012-027\n",
      "5039-012-029\n",
      "5039-012-030\n",
      "5039-012-031\n",
      "5039-012-033\n",
      "5039-019-051\n",
      "5039-024-016\n",
      "5055-012-019\n",
      "5055-027-022\n",
      "5055-029-020\n",
      "5055-029-021\n",
      "5122-022-002\n",
      "5122-025-006\n",
      "5122-025-010\n",
      "5122-025-012\n",
      "5122-025-013\n",
      "5123-004-403\n",
      "5123-004-411\n",
      "5123-004-433\n",
      "5123-023-024\n",
      "5123-023-025\n",
      "5124-011-016\n",
      "5139-029-027\n",
      "2331-032-199\n"
     ]
    }
   ],
   "source": [
    "# open the assessor file\n",
    "with open (\"assessor.csv\",\"r\") as csvfile:\n",
    "    # run the file through csv reader\n",
    "    assessor = csv.reader(csvfile)\n",
    "    # loop through each row\n",
    "    for row in assessor:\n",
    "        # check if this assessor id number is in row\n",
    "        if 'UNIVERSITY OF SOUTHERN CA' in row or \"UNIVERSITY OF SO CALIF\" in row:\n",
    "            print row[0]"
   ]
  },
  {
   "cell_type": "code",
   "execution_count": 132,
   "metadata": {},
   "outputs": [
    {
     "name": "stdout",
     "output_type": "stream",
     "text": [
      "7480-004-007\n",
      "7480-040-026\n",
      "5525-030-023\n",
      "5525-032-017\n",
      "5039-002-029\n",
      "5039-002-030\n",
      "5039-002-031\n",
      "5039-002-032\n",
      "5039-002-033\n",
      "5039-002-034\n",
      "5039-003-027\n",
      "5039-003-029\n",
      "5039-003-030\n",
      "5039-012-027\n",
      "5039-012-029\n",
      "5039-012-030\n",
      "5039-012-031\n",
      "5039-012-033\n",
      "5039-019-051\n",
      "5039-024-016\n",
      "5055-012-019\n",
      "5055-027-022\n",
      "5055-029-020\n",
      "5055-029-021\n",
      "5122-022-002\n",
      "5122-025-006\n",
      "5122-025-010\n",
      "5122-025-012\n",
      "5122-025-013\n",
      "5123-004-403\n",
      "5123-004-411\n",
      "5123-004-433\n",
      "5123-023-024\n",
      "5123-023-025\n",
      "5124-011-016\n",
      "5139-029-027\n",
      "2331-032-199\n"
     ]
    }
   ],
   "source": [
    "# open up usc property file\n",
    "f = open (\"usc.txt\",\"w\")\n",
    "\n",
    "# write header row\n",
    "f.write(\"<p><strong>ain</strong></p>\\n\")\n",
    "\n",
    "# open the assessor file\n",
    "with open (\"assessor.csv\",\"r\") as csvfile:\n",
    "    # run the file through csv reader\n",
    "    assessor = csv.reader(csvfile)\n",
    "    # loop through each row\n",
    "    for row in assessor:\n",
    "        # check if usc variations are in row\n",
    "        if 'UNIVERSITY OF SOUTHERN CA' in row or \"UNIVERSITY OF SO CALIF\" in row:\n",
    "            print row[0]\n",
    "            f.write('<p>' + row[0] + '</p>\\n')\n",
    "            \n",
    "# close the usc.txt file\n",
    "f.close()"
   ]
  },
  {
   "cell_type": "code",
   "execution_count": 2,
   "metadata": {},
   "outputs": [],
   "source": [
    "# define a new function\n",
    "def Widget(time):\n",
    "    if time is \"night\":\n",
    "        print \"MEEEOOOOWWWW\"\n",
    "    elif time is \"day\":\n",
    "        print \"prrr\"\n",
    "    else:\n",
    "        print \"ZZZ\""
   ]
  },
  {
   "cell_type": "code",
   "execution_count": 3,
   "metadata": {},
   "outputs": [
    {
     "name": "stdout",
     "output_type": "stream",
     "text": [
      "MEEEOOOOWWWW\n"
     ]
    }
   ],
   "source": [
    "Widget(\"night\")"
   ]
  },
  {
   "cell_type": "code",
   "execution_count": 4,
   "metadata": {},
   "outputs": [
    {
     "name": "stdout",
     "output_type": "stream",
     "text": [
      "prrr\n"
     ]
    }
   ],
   "source": [
    "Widget(\"day\")"
   ]
  },
  {
   "cell_type": "code",
   "execution_count": 5,
   "metadata": {},
   "outputs": [
    {
     "name": "stdout",
     "output_type": "stream",
     "text": [
      "ZZZ\n"
     ]
    }
   ],
   "source": [
    "Widget(\"sleep\")"
   ]
  },
  {
   "cell_type": "code",
   "execution_count": null,
   "metadata": {},
   "outputs": [],
   "source": []
  }
 ],
 "metadata": {
  "kernelspec": {
   "display_name": "Python 2",
   "language": "python",
   "name": "python2"
  },
  "language_info": {
   "codemirror_mode": {
    "name": "ipython",
    "version": 2
   },
   "file_extension": ".py",
   "mimetype": "text/x-python",
   "name": "python",
   "nbconvert_exporter": "python",
   "pygments_lexer": "ipython2",
   "version": "2.7.14"
  }
 },
 "nbformat": 4,
 "nbformat_minor": 2
}
